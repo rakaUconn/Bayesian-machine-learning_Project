{
 "cells": [
  {
   "cell_type": "code",
   "execution_count": 18,
   "metadata": {},
   "outputs": [],
   "source": [
    "import torch\n",
    "import torchvision\n",
    "from keras.utils import np_utils\n"
   ]
  },
  {
   "cell_type": "code",
   "execution_count": 19,
   "metadata": {},
   "outputs": [],
   "source": [
    "import os\n",
    "import numpy as np\n",
    "import cv2\n",
    "import pandas as pd"
   ]
  },
  {
   "cell_type": "code",
   "execution_count": 20,
   "metadata": {},
   "outputs": [],
   "source": [
    "\n",
    "class Config():\n",
    "    def __init__(self):\n",
    "        pass\n",
    "    \n",
    "    num_classes=3\n",
    "    labels_to_class = {0:'0',1:'1',2:'idle'}\n",
    "    class_to_labels = {'0':0,'1':1,'idle':2}\n",
    "    resize = 224\t\n",
    "    num_epochs =10\n",
    "    batch_size =10"
   ]
  },
  {
   "cell_type": "code",
   "execution_count": 21,
   "metadata": {},
   "outputs": [],
   "source": [
    "root_dir = r'H:\\BML_data'\n",
    "dest_dir = r'H:\\BML_data_process'"
   ]
  },
  {
   "cell_type": "code",
   "execution_count": 22,
   "metadata": {},
   "outputs": [],
   "source": [
    "if not os.path.exists(dest_dir):\n",
    "    os.mkdir(dest_dir)"
   ]
  },
  {
   "cell_type": "code",
   "execution_count": 23,
   "metadata": {},
   "outputs": [],
   "source": [
    "# To list what are the directories - train, test\n",
    "data_dir_list = os.listdir(root_dir)"
   ]
  },
  {
   "cell_type": "code",
   "execution_count": 24,
   "metadata": {},
   "outputs": [],
   "source": [
    "def vid_to_frame():\n",
    "    for data_dir in data_dir_list:\n",
    "        data_path = os.path.join(root_dir,data_dir)\n",
    "        dest_data_path = os.path.join(dest_dir,data_dir)\n",
    "        if not os.path.exists(dest_data_path):\n",
    "            os.makedirs(dest_data_path)\n",
    "            \n",
    "        write_frames(data_path,dest_data_path)\n",
    "    \n",
    "    print(data_path)\n"
   ]
  },
  {
   "cell_type": "code",
   "execution_count": 29,
   "metadata": {},
   "outputs": [],
   "source": [
    "def write_frames(vid_path,des_vid_path):\n",
    "    # read the list of video from 'UCF-101/train/Archery' - [v_Archery_g01_c01.avi,v_Archery_g01_c01.avi, ......]\n",
    "    vid_list = os.listdir(vid_path) \n",
    "    for vid in vid_list: # v_Archery_g01_c01.avi\n",
    "        dest_folder_name = vid[:-4] # v_Archery_g01_c01\n",
    "        dest_folder_path = os.path.join(des_vid_path,dest_folder_name) # 'activity_data/train/Archery/v_Archery_g01_c01'\n",
    "        if not os.path.exists(dest_folder_path):\n",
    "            os.mkdir(dest_folder_path)\n",
    "            \n",
    "        vid_path1 = os.path.join(vid_path,vid)  # 'UCF-101/train/Archery/v_Archery_g01_c01.avi'\n",
    "        #print ('video path: ', vid_path1)\n",
    "        cap = cv2.VideoCapture(vid_path1) # initialize a cap object for reading the video\n",
    "        #print (cap)\n",
    "        ret=True\n",
    "        frame_num=0\n",
    "        while ret:\n",
    "            ret, img = cap.read()\n",
    "            output_file_name = 'img_{:06d}'.format(frame_num) + '.png' # img_000001.png\n",
    "            # output frame to write 'activity_data/train/Archery/v_Archery_g01_c01/img_000001.png'\n",
    "            output_file_path = os.path.join(dest_folder_path, output_file_name)\n",
    "            frame_num += 1\n",
    "            #print(\"Frame no. \", frame_num)\n",
    "            try:\n",
    "                cv2.imshow('img',img)\n",
    "                cv2.waitKey(5)\n",
    "                cv2.imwrite(output_file_path, img) # writing frames to defined location\n",
    "            except Exception as e:\n",
    "                print(e)\n",
    "            if ret==False:\n",
    "                cv2.destroyAllWindows()\n",
    "                cap.release()\n",
    "if __name__ == '__main__':\n",
    "   vid_to_frame()"
   ]
  },
  {
   "cell_type": "code",
   "execution_count": 12,
   "metadata": {},
   "outputs": [],
   "source": [
    "train_data_path=dest_dir\n",
    "data_files= r'H:\\BML_data_process_csv'\n",
    "if not os.path.exists(data_files):\n",
    "    os.mkdir(data_files)"
   ]
  },
  {
   "cell_type": "code",
   "execution_count": 13,
   "metadata": {},
   "outputs": [
    {
     "data": {
      "text/plain": [
       "['0', '1', 'idle']"
      ]
     },
     "execution_count": 13,
     "metadata": {},
     "output_type": "execute_result"
    }
   ],
   "source": [
    "data_dir_list = os.listdir(train_data_path)\n",
    "data_dir_list"
   ]
  },
  {
   "cell_type": "code",
   "execution_count": 28,
   "metadata": {},
   "outputs": [],
   "source": [
    "\n",
    "num_classes = 3 \n",
    "labels_name={'0':0,'1':1,'idle':2}"
   ]
  },
  {
   "cell_type": "code",
   "execution_count": 29,
   "metadata": {},
   "outputs": [],
   "source": [
    "train_df_final=pd.DataFrame()\n",
    "for data_dir in data_dir_list:\n",
    "    label=labels_name[str(data_dir)]\n",
    "    video_list = os.listdir(os.path.join(train_data_path,data_dir))\n",
    "    train_df1=pd.DataFrame()\n",
    "    for vids in video_list:\n",
    "        train_df = pd.DataFrame(columns=['FileName', 'Label', 'ClassName'])\n",
    "        img_list = os.listdir(os.path.join(train_data_path,data_dir,vids))\n",
    "        for img in img_list:\n",
    "            img_path = os.path.join(train_data_path,data_dir,vids,img)\n",
    "            train_df = train_df.append({'FileName': img_path, 'Label': label,'ClassName':data_dir },ignore_index=True)\n",
    "        train_df1=train_df1.append(train_df,ignore_index=True)\n",
    "    train_df_final=train_df_final.append(train_df1,ignore_index=True)\n",
    "\n",
    "\n",
    "\n",
    "    "
   ]
  },
  {
   "cell_type": "code",
   "execution_count": 30,
   "metadata": {},
   "outputs": [],
   "source": [
    "file_name = 'train_vids.csv'\n",
    "train_df_final.to_csv(f'{data_files}{file_name}')"
   ]
  },
  {
   "cell_type": "code",
   "execution_count": 31,
   "metadata": {},
   "outputs": [],
   "source": [
    "import pandas as pd\n",
    "import cv2\n",
    "import numpy as np\n",
    "from sklearn.utils import shuffle\n",
    "import os\n",
    "from collections import deque\n",
    "import copy\n",
    "import matplotlib\n",
    "import matplotlib.pyplot as plt\n",
    "\n",
    "\n",
    "%matplotlib inline  "
   ]
  },
  {
   "cell_type": "code",
   "execution_count": 32,
   "metadata": {},
   "outputs": [],
   "source": [
    "def file_generator(data_path,data_files,temporal_stride=1,temporal_length=7):\n",
    "    '''\n",
    "    data_files - list of csv files to be read.\n",
    "    '''\n",
    "    for f in data_files: # read all the csv files (one csv file corresponds to one vdieo) in data_files one by one\n",
    "        tmp_df = pd.read_csv(os.path.join(data_path,f))\n",
    "        label_list = list(tmp_df['Label'])  # Load all the labels in the label_list\n",
    "        total_images = len(label_list)\n",
    "        if total_images>=temporal_length: # only if the number of frames in the video is greater tha temporal length, use that video\n",
    "            num_samples = int((total_images-temporal_length)/temporal_stride)+1\n",
    "            print(f'num of samples from vid seq-{f}: {num_samples}')\n",
    "            img_list = list(tmp_df['FileName'])\n",
    "        else: # if the number of frames are less than temporal length , discard it\n",
    "            print(f'num of frames is less than temporal length; hence discarding this file-{f}')\n",
    "\n",
    "            continue\n",
    "\n",
    "        start_frame = 0\n",
    "        samples = deque() # initliaze a queue to store the frames \n",
    "        samp_count=0 # a counter to count the number of smaple. one smaple has as many frames as defined by temporal length\n",
    "        for img in img_list:\n",
    "            samples.append(img)\n",
    "            if len(samples)==temporal_length: #if the queue has as many frames as temporal length, return it as one sample\n",
    "                samples_c=copy.deepcopy(samples) # copy the queue as in the next stage frames would be popped\n",
    "                samp_count+=1\n",
    "                for _ in range(temporal_stride):\n",
    "                    samples.popleft()\n",
    "                yield samples_c,label_list[0] # return a sample(consisting of as many frames as defined by temporal length) \n",
    "                                                # and its corsponding label"
   ]
  },
  {
   "cell_type": "code",
   "execution_count": 33,
   "metadata": {},
   "outputs": [],
   "source": [
    "# Load the samples and their corresponding label for each video\n",
    "def load_samples(data_cat='train',temporal_stride=1,temporal_length=7):\n",
    "    data_path = os.path.join(data_files1,data_cat)\n",
    "    data_files = os.listdir(data_path)\n",
    "    print(data_files)\n",
    "    # define a generator to read the samples\n",
    "    file_gen = file_generator(data_path,data_files,temporal_stride,temporal_length)\n",
    "    iterator = True\n",
    "    data_list = []\n",
    "    while iterator:\n",
    "        try:\n",
    "            x,y = next(file_gen)\n",
    "            x=list(x)\n",
    "            data_list.append([x,y])\n",
    "        except Exception as e:\n",
    "            print ('the exception: ',e)\n",
    "            iterator = False\n",
    "            print ('end of data generator')\n",
    "    return data_list"
   ]
  },
  {
   "cell_type": "code",
   "execution_count": null,
   "metadata": {},
   "outputs": [],
   "source": [
    "data_path=r'H:\\BML_data_process_csv'\n",
    "data_files1=r'H:\\BML_data_process_csv'\n",
    "train_data = load_samples(data_cat='train',temporal_stride=1,temporal_length=7)"
   ]
  },
  {
   "cell_type": "code",
   "execution_count": 35,
   "metadata": {},
   "outputs": [
    {
     "name": "stdout",
     "output_type": "stream",
     "text": [
      "Total number of train samples: 145\n"
     ]
    }
   ],
   "source": [
    "print ('Total number of train samples:',len(train_data))"
   ]
  },
  {
   "cell_type": "code",
   "execution_count": 37,
   "metadata": {},
   "outputs": [],
   "source": [
    "def shuffle_data(samples):\n",
    "    data=shuffle(samples,random_state=2)\n",
    "    return data"
   ]
  },
  {
   "cell_type": "code",
   "execution_count": 38,
   "metadata": {},
   "outputs": [],
   "source": [
    "def preprocess_image(img):\n",
    "    img = cv2.resize(img,(224,224))\n",
    "    img = img/255\n",
    "    return img"
   ]
  },
  {
   "cell_type": "code",
   "execution_count": 39,
   "metadata": {},
   "outputs": [],
   "source": [
    "def data_generator(data,batch_size=10,temporal_padding='same',shuffle=True):              \n",
    "    \"\"\"\n",
    "    Yields the next training batch.\n",
    "    data is an array [[img1_filename,img2_filename...,img16_filename],label1], [image2_filename,label2],...].\n",
    "    \"\"\"\n",
    "    num_samples = len(data)\n",
    "    if shuffle:\n",
    "        data = shuffle_data(data)\n",
    "    while True:   \n",
    "        for offset in range(0, num_samples, batch_size):\n",
    "            print ('startring index: ', offset) \n",
    "            # Get the samples you'll use in this batch\n",
    "            batch_samples = data[offset:offset+batch_size]\n",
    "            # Initialise X_train and y_train arrays for this batch\n",
    "            X_train = []\n",
    "            y_train = []\n",
    "            # For each example\n",
    "            for batch_sample in batch_samples: # Loop over every batch\n",
    "                # Load image (X)\n",
    "                x = batch_sample[0]\n",
    "                y = batch_sample[1]\n",
    "                temp_data_list = []\n",
    "                for img in x:\n",
    "                    try:\n",
    "                        img = cv2.imread(img)\n",
    "                        #apply any kind of preprocessing here\n",
    "                        #img = cv2.cvtColor(img,cv2.COLOR_BGR2GRAY)\n",
    "                        img = preprocess_image(img)\n",
    "                        temp_data_list.append(img)\n",
    "\n",
    "                    except Exception as e:\n",
    "                        print (e)\n",
    "                        print ('error reading file: ',img)                      \n",
    "                # Read label (y)\n",
    "                #label = label_names[y]\n",
    "                # Add example to arrays\n",
    "                X_train.append(temp_data_list)\n",
    "                y_train.append(y)\n",
    "    \n",
    "            # Make sure they're numpy arrays (as opposed to lists)\n",
    "            X_train = np.array(X_train)\n",
    "            #X_train = np.rollaxis(X_train,1,4)\n",
    "            y_train = np.array(y_train)\n",
    "            # convert to one hot encoding for training keras model\n",
    "            y_train = np_utils.to_categorical(y_train, 3)\n",
    "            \n",
    "            # yield the next training batch            \n",
    "            yield X_train, y_train"
   ]
  },
  {
   "cell_type": "code",
   "execution_count": 40,
   "metadata": {},
   "outputs": [],
   "source": [
    "train_generator = data_generator(train_data,batch_size=145,shuffle=True)"
   ]
  },
  {
   "cell_type": "code",
   "execution_count": 43,
   "metadata": {},
   "outputs": [],
   "source": [
    "sig_tran = Config.labels_to_class[np.argmax(y_0)]\n"
   ]
  },
  {
   "cell_type": "code",
   "execution_count": 44,
   "metadata": {},
   "outputs": [
    {
     "data": {
      "image/png": "[encoded data removed]",
      "text/plain": [
       "<Figure size 576x576 with 8 Axes>"
      ]
     },
     "metadata": {
      "needs_background": "light"
     },
     "output_type": "display_data"
    }
   ],
   "source": [
    "num_of_images=7\n",
    "fig=plt.figure(figsize=(8,8))\t\n",
    "plt.title(\"one sample with {} frames ; signal_tran:{}\".format(num_of_images,sig_tran))\n",
    "subplot_num = int(np.ceil(np.sqrt(num_of_images)))\n",
    "for i in range(int(num_of_images)):\n",
    "    ax = fig.add_subplot(subplot_num, subplot_num, i+1)\n",
    "    #ax.imshow(output_image[0,:,:,i],interpolation='nearest' ) #to see the first filter\n",
    "    ax.imshow(x_0[i,:,:,::-1])\n",
    "    plt.xticks([])\n",
    "    plt.yticks([])\n",
    "    plt.tight_layout()\n",
    "plt.show()"
   ]
  },
  {
   "cell_type": "code",
   "execution_count": 45,
   "metadata": {},
   "outputs": [],
   "source": [
    "\n",
    "import sklearn\n",
    "from sklearn.manifold import TSNE\n",
    "import seaborn as sb\n",
    "import matplotlib\n",
    "import matplotlib.pyplot as plt\n",
    "import matplotlib.patheffects as pe\n"
   ]
  },
  {
   "cell_type": "code",
   "execution_count": 46,
   "metadata": {},
   "outputs": [],
   "source": [
    "X = np.vstack([x[i].flatten() for i in range(145)])\n",
    "Y = np.array([np.argmax(y[i]) for i in range(145)])"
   ]
  },
  {
   "cell_type": "code",
   "execution_count": 47,
   "metadata": {},
   "outputs": [],
   "source": [
    "digits_final = TSNE(perplexity=30).fit_transform(X)"
   ]
  },
  {
   "cell_type": "code",
   "execution_count": 66,
   "metadata": {},
   "outputs": [],
   "source": [
    "def plot(x, colors):\n",
    "  \n",
    "    palette = np.array(sb.color_palette(\"hls\", 3))  #Choosing color palette \n",
    "\n",
    "    # Create a scatter plot.\n",
    "    f = plt.figure(figsize=(8, 8))\n",
    "    ax = plt.subplot(aspect='equal')\n",
    "    \n",
    "    sc = ax.scatter(x[:,0], x[:,1], lw=0, s=40, c=palette[colors.astype(np.int)])\n",
    "    \n",
    "    # Add the labels for each digit.\n",
    "    txts = []\n",
    "    for i in range(3):\n",
    "        # Position of each label.\n",
    "        xtext, ytext = np.median(x[colors == i, :], axis=0)\n",
    "        txt = ax.text(xtext, ytext, str(i), fontsize=24)\n",
    "        txt.set_path_effects([pe.Stroke(linewidth=5, foreground=\"w\"), pe.Normal()])\n",
    "        txts.append(txt)\n",
    "    return f, ax, txts"
   ]
  },
  {
   "cell_type": "code",
   "execution_count": 2,
   "metadata": {},
   "outputs": [
    {
     "name": "stderr",
     "output_type": "stream",
     "text": [
      "Using TensorFlow backend.\n"
     ]
    }
   ],
   "source": [
    "\n",
    "import tensorflow as tf\n",
    "from tensorflow.keras.models import Model, Sequential\n",
    "from tensorflow.keras.layers import Dense, Dropout, Flatten\n",
    "from tensorflow.keras.layers import Conv2D, Input, LSTM\n",
    "from tensorflow.keras.layers import MaxPooling2D as MaxPool2D\n",
    "from tqdm import tqdm\n",
    "import matplotlib.pyplot as plt\n",
    "import numpy as np\n",
    "import csv\n",
    "import pandas as pd\n",
    "from tensorflow.keras.preprocessing import image\n",
    "from sklearn.model_selection import train_test_split\n",
    "import cv2\n",
    "from glob import glob\n",
    "import os\n",
    "os.environ['TF_CPP_MIN_LOG_LEVEL'] = '2'\n",
    "import math\n",
    "import seaborn as sns\n",
    "from sklearn.metrics import accuracy_score\n",
    "from keras.utils.vis_utils import plot_model\n",
    "sns.set()\n"
   ]
  },
  {
   "cell_type": "code",
   "execution_count": 6,
   "metadata": {},
   "outputs": [],
   "source": [
    "def get_dropout(input_tensor,\n",
    "                p=0.5,mc = False):\n",
    "    if mc:\n",
    "        return Dropout(p)(input_tensor, training=True)\n",
    "    else:\n",
    "        return Dropout(p)(input_tensor)"
   ]
  },
  {
   "cell_type": "code",
   "execution_count": 7,
   "metadata": {},
   "outputs": [],
   "source": [
    "def build_frontend(num_classes,\n",
    "                   dropout,input_shape = (224, 224, 3),mc = False):\n",
    "    inp = Input(input_shape)\n",
    "    x = Conv2D(32, (3, 3), input_shape = input_shape,activation='relu')(inp)\n",
    "    x = Conv2D(32, (3, 3), activation = 'relu')(x)\n",
    "    x = MaxPool2D(pool_size=(3, 3))(x)\n",
    "    x = Flatten()(x)\n",
    "    x = get_dropout(x, p=dropout, mc=mc)\n",
    "    x = Dense(units = 500, activation = 'relu')(x)\n",
    "    x = get_dropout(x, p = dropout, mc = mc)\n",
    "    out = Dense(units=num_classes,\n",
    "                activation='softmax')(x)\n",
    "    model = Model(inputs=inp, outputs=out)\n",
    "    model.compile(loss=tf.keras.losses.categorical_crossentropy,optimizer=tf.keras.optimizers.Adamax(),metrics=['accuracy'])\n",
    "    return model\n",
    "\n",
    "\n",
    "\n",
    "    "
   ]
  },
  {
   "cell_type": "code",
   "execution_count": 51,
   "metadata": {},
   "outputs": [
    {
     "name": "stderr",
     "output_type": "stream",
     "text": [
      "100%|██████████| 1015/1015 [00:01<00:00, 584.42it/s]\n"
     ]
    }
   ],
   "source": [
    "num_classes, class_labels, input_shape,X_train, X_test, y_train, y_test=get_frontend_data_setup(training_file_name =r'H:\\BML_data_process_csvtrain_vids.csv')"
   ]
  },
  {
   "cell_type": "code",
   "execution_count": 54,
   "metadata": {},
   "outputs": [],
   "source": [
    "def get_class_labels(training_file_name =r'H:\\BML_data_process_csvtrain_vids.csv'):\n",
    "    train = pd.read_csv(training_file_name)\n",
    "    class_labels = train['ClassName'].unique().tolist()\n",
    "    return class_labels"
   ]
  },
  {
   "cell_type": "code",
   "execution_count": 142,
   "metadata": {},
   "outputs": [],
   "source": [
    "def standardize_matrix_size(data,num_classes):\n",
    "    longest_size = 0\n",
    "    for video in data:\n",
    "        if video.shape[0] > longest_size:\n",
    "            longest_size = video.shape[0]\n",
    "    for video in range(len(data)):\n",
    "        padded_matrix = np.zeros((longest_size, num_classes))\n",
    "        padded_matrix[:data[video].shape[0],\n",
    "                      :data[video].shape[1]] = data[video]\n",
    "        data[video] = padded_matrix\n",
    "        return data"
   ]
  },
  {
   "cell_type": "code",
   "execution_count": null,
   "metadata": {},
   "outputs": [],
   "source": [
    "def get_mc_predictions(mc_model,test_set_images,n_iter = 500):\n",
    "    mc_predictions = []\n",
    "    for i in tqdm(range(n_iter)):\n",
    "        y_p = mc_model.predict(test_set_images,\n",
    "                               batch_size=50)\n",
    "        mc_predictions.append(y_p)\n",
    "        # make model predictions on the test set 500 times\n",
    "    return mc_predictions\n",
    "\n",
    "def get_flag1(p0, cutoff, stdev):\n",
    "    flag = False\n",
    "    if ((p0.mean(axis=0).max() < cutoff) or (len([i for i in p0.mean(axis=0)\n",
    "                                                    if i > 0.25]) >= 2) or (p0.std(axis=0).max() > stdev)):\n",
    "        flag = True\n",
    "    return flag"
   ]
  },
  {
   "cell_type": "code",
   "execution_count": 141,
   "metadata": {},
   "outputs": [],
   "source": [
    "def get_most_uncertain_images(test_set_images,mc_predictions, stdev):\n",
    "    max_means = []\n",
    "    max_vars = []\n",
    "    class_preds = []\n",
    "    flags = []\n",
    "    for idx in range(test_set_images.shape[0]):\n",
    "        px = np.array([p[idx] for\n",
    "                       p in mc_predictions])\n",
    "        class_preds.append(px.mean(axis=0).argmax())\n",
    "        max_means.append(px.mean(axis=0).max())\n",
    "        max_vars.append(px.std(axis=0)\n",
    "                        [px.mean(axis=0).argmax()])\n",
    "        flags.append(get_flag1(px, 0.6, stdev))\n",
    "    test_uncertainties = pd.DataFrame({'max_means':max_means,'max_vars': max_vars,\n",
    "                                       'class_pred': class_preds,\n",
    "                                       'flagged': flags})\n",
    "    top_by_prob = test_uncertainties.sort_values(by = ['max_means'])\n",
    "    top_by_prob = top_by_prob.reset_index()\n",
    "    top_by_var = test_uncertainties.sort_values(by = ['max_vars'],ascending = False)\n",
    "    top_by_var = top_by_var.reset_index()\n",
    "    return top_by_prob, top_by_var\n"
   ]
  },
  {
   "cell_type": "code",
   "execution_count": 205,
   "metadata": {},
   "outputs": [],
   "source": [
    "vid_file= r'H:\\BML_data'\n",
    "files = glob('H:\\BML_data_process\\*')\n",
    "files = glob(files[0])\n",
    "videos = glob(f'{files[0]}/*')\n",
    "# creating a dataframe having video names\n",
    "train = pd.DataFrame()\n",
    "train['video_name'] = videos\n",
    "train = train[:-1]\n",
    "for i in range(train.shape[0]):\n",
    "    train['video_name'][i] = train['video_name'][i].split(' ')[0]\n",
    "    video_names = train['video_name']\n",
    "def get_back_input2(video_names,mc_model,\n",
    "                    num_classes,n_iter = 500,\n",
    "                    batch_size = 50,mc_preds = False):\n",
    "    frames = []\n",
    "    frame_labels = []\n",
    "    frame_mc_preds = []\n",
    "    belongs_to_video = []\n",
    "    output = []\n",
    "    output_labels = []\n",
    "    the_images = []\n",
    "    for i in tqdm(range(video_names.shape[0])):\n",
    "        images=glob(video_names[i]+'\\*')\n",
    "        \n",
    "        \n",
    "        for j in range(len(images)):\n",
    "            img = image.load_img(images[j],\n",
    "                                 target_size=(224,224,3))\n",
    "            img = image.img_to_array(img)\n",
    "            img = img/255\n",
    "            the_images.append(img)\n",
    "            frames.append(img)\n",
    "            belongs_to_video.append(i)\n",
    "            frame_labels.append(os.path.split(files[0])[1])\n",
    "            the_images = np.array(the_images)\n",
    "            print(f\"{str(i)}: {str(the_images.shape)}\")\n",
    "            video_frames_predictions = []\n",
    "            for j in range(n_iter):\n",
    "                y_p = mc_model.predict(the_images,\n",
    "                                    batch_size=batch_size)\n",
    "                video_frames_predictions.append(y_p)\n",
    "            mean_video_frames_predictions = np.mean(video_frames_predictions,\n",
    "                                                        axis = 0)\n",
    "            output.append(mean_video_frames_predictions)\n",
    "            output_labels.append(os.path.split(files[0])[1])\n",
    "    frames = np.array(frames)\n",
    "    frame_labels = pd.DataFrame(frame_labels,\n",
    "                                    columns=['class'])\n",
    "    frame_labels = pd.get_dummies(frame_labels)\n",
    "    output = standardize_matrix_size(output,\n",
    "                                         num_classes)\n",
    "    if mc_preds:\n",
    "        frame_mc_preds = get_mc_predictions(\n",
    "            mc_model, frames, n_iter)\n",
    "        return output, output_labels,frames, frame_labels,belongs_to_video, frame_mc_preds\n",
    "    else:\n",
    "        return output, output_labels, frames,frame_labels, belongs_to_video\n",
    "    \n",
    "    \n",
    " "
   ]
  },
  {
   "cell_type": "code",
   "execution_count": 194,
   "metadata": {},
   "outputs": [],
   "source": [
    "def check_for_model_misunderstanding(mc_model,num_classes,class_labels,stdev,\n",
    "                                     input_shape = (224, 224, 3),\n",
    "                                     num_random_images = 100):\n",
    "    posterior_counts = [0 for x in range(num_classes)]\n",
    "    top_class_probs = np.empty(num_random_images)\n",
    "    top_class_vars = np.empty(num_random_images)\n",
    "    num_flags = 0\n",
    "    for j in tqdm(range(num_random_images)):\n",
    "        random_img = np.random.random(input_shape)\n",
    "        random_predictions = []\n",
    "        for i in range(100):\n",
    "            y_p = mc_model.predict(np.array([random_img]))\n",
    "            random_predictions.append(y_p)\n",
    "        p0 = np.array([p[0] for p in random_predictions])\n",
    "        index = p0.mean(axis=0).argmax()\n",
    "        posterior_counts[index] = posterior_counts[index]+1\n",
    "        top_class_probs[j] = p0.mean(axis=0)[index]\n",
    "        top_class_vars[j] = p0.std(axis=0)[index]\n",
    "        if get_flag1(p0, 0.6. stdev):\n",
    "            num_flags = num_flags+1\n",
    "    above_zero = []\n"
   ]
  },
  {
   "cell_type": "code",
   "execution_count": 143,
   "metadata": {},
   "outputs": [],
   "source": [
    "def baseline_check_for_model_misunderstanding(model,num_classes,class_labels,\n",
    "                                              thresh,\n",
    "                                              input_shape = (224, 224, 3),\n",
    "                                              num_random_images = 100):\n",
    "    posterior_counts = [0 for x in range(num_classes)]\n",
    "    num_flags = 0\n",
    "    for j in tqdm(range(num_random_images)):\n",
    "        random_img = np.random.random(input_shape)\n",
    "        y_p = model.predict(np.array([random_img]))\n",
    "        index = y_p.argmax()\n",
    "        posterior_counts[index] = posterior_counts[index]+1\n",
    "        if y_p.max() < thresh[int(index)]:\n",
    "            num_flags = num_flags+1\n",
    "    print()\n",
    "    print('Percentage of randomly generated images flagged:')\n",
    "    print(str(100* num_flags/num_random_images) + '%')\n",
    "    print()\n",
    "    above_zero = []\n",
    "    for index in range(len(posterior_counts)):\n",
    "        if posterior_counts[index] > 0:\n",
    "            above_zero.append(index)\n",
    "    \n",
    "\n"
   ]
  },
  {
   "cell_type": "code",
   "execution_count": 15,
   "metadata": {},
   "outputs": [],
   "source": [
    "def build_backend(num_classes):\n",
    "    backend = Sequential()\n",
    "    backend.add(LSTM(50,\n",
    "                     return_sequences = True,\n",
    "                     input_shape = (None, num_classes)))\n",
    "    backend.add(LSTM(50))\n",
    "    backend.add(Dense(50,\n",
    "                      activation = 'relu'))\n",
    "    backend.add(Dense(num_classes))\n",
    "    backend.compile(loss=tf.keras.losses.categorical_crossentropy,\n",
    "                    optimizer='adam',\n",
    "                    metrics=['categorical_accuracy', 'accuracy'])\n",
    "    return backend\n"
   ]
  },
  {
   "cell_type": "code",
   "execution_count": 146,
   "metadata": {},
   "outputs": [],
   "source": [
    "def plot_prediction(idx,\n",
    "                    images,\n",
    "                    labels,\n",
    "                    mc_predictions,\n",
    "                    class_labels,\n",
    "                    num_classes):\n",
    "    labels = labels.to_numpy()\n",
    "    p0 = np.array([p[idx] for p in mc_predictions])\n",
    "    p0_avg = p0.mean(axis=0)\n",
    "    plt.figure(figsize = (12, 12))\n",
    "    \n",
    "    # second plot\n",
    "    sns.barplot(orient = 'h')\n",
    "    for dist in p0:\n",
    "        sns.barplot(y =np.arange(num_classes), x = dist,\n",
    "                    alpha = 0.1, orient = 'h')\n",
    "    plt.xlim([0,1])\n",
    "    #plt.title(’Posterior Samples’)\n",
    "    # # third plot\n",
    "    plt.ylabel('Class', fontsize = 22)\n",
    "    plt.xlabel('Probability', fontsize = 22)\n",
    "    plt.yticks(ticks = None, labels = None, color = 'w')\n",
    "    plt.xticks(fontsize = 22)\n",
    "    sns.barplot(y = np.arange(num_classes), x = p0_avg,\n",
    "                linewidth=2.5, facecolor=(1, 1, 1, 0),\n",
    "                edgecolor=\".2\", orient = 'h')\n"
   ]
  },
  {
   "cell_type": "code",
   "execution_count": 147,
   "metadata": {},
   "outputs": [],
   "source": [
    "def plot_epoch_loss(history):\n",
    "    plt.plot(history.history['loss'])\n",
    "    plt.plot(history.history['val_loss'])\n",
    "    plt.title('Model Loss')\n",
    "    plt.ylabel('loss')\n",
    "    plt.xlabel('epoch')\n",
    "    plt.legend(['train', 'test'], loc='upper left')\n",
    "    plt.show()"
   ]
  },
  {
   "cell_type": "code",
   "execution_count": 210,
   "metadata": {},
   "outputs": [],
   "source": [
    "import matplotlib.pyplot as plt\n",
    "import numpy as np\n",
    "class_labels = get_class_labels()\n",
    "dropout = 0.5\n",
    "num_classes =1\n",
    "input_shape = (224, 224, 3)\n",
    "frontend = build_frontend(num_classes = num_classes,\n",
    "                          dropout = dropout,\n",
    "                          input_shape = input_shape,\n",
    "                          mc = True)\n"
   ]
  },
  {
   "cell_type": "code",
   "execution_count": 211,
   "metadata": {},
   "outputs": [],
   "source": [
    "backend = build_backend(num_classes)\n",
    "non_mc_model = build_frontend(num_classes = num_classes,dropout = dropout,\n",
    "                              input_shape = input_shape,\n",
    "                              mc = False)"
   ]
  },
  {
   "cell_type": "code",
   "execution_count": 214,
   "metadata": {},
   "outputs": [
    {
     "name": "stderr",
     "output_type": "stream",
     "text": [
      "  0%|          | 0/9 [00:00<?, ?it/s]"
     ]
    },
    {
     "name": "stdout",
     "output_type": "stream",
     "text": [
      "0: (1, 224, 224, 3)\n"
     ]
    },
    {
     "name": "stderr",
     "output_type": "stream",
     "text": [
      "\n"
     ]
    },
    {
     "ename": "UnknownError",
     "evalue": " Failed to get convolution algorithm. This is probably because cuDNN failed to initialize, so try looking to see if a warning log message was printed above.\n\t [[node model_11/conv2d_22/Relu\n (defined at c:\\ProgramData\\Anaconda3\\lib\\site-packages\\tensorflow\\python\\keras\\backend.py:4748)\n]] [Op:__inference_predict_function_9878]\n\nErrors may have originated from an input operation.\nInput Source operations connected to node model_11/conv2d_22/Relu:\nIn[0] model_11/conv2d_22/BiasAdd (defined at c:\\ProgramData\\Anaconda3\\lib\\site-packages\\tensorflow\\python\\keras\\layers\\convolutional.py:271)\n\nOperation defined at: (most recent call last)\n>>>   File \"c:\\ProgramData\\Anaconda3\\lib\\runpy.py\", line 194, in _run_module_as_main\n>>>     return _run_code(code, main_globals, None,\n>>> \n>>>   File \"c:\\ProgramData\\Anaconda3\\lib\\runpy.py\", line 87, in _run_code\n>>>     exec(code, run_globals)\n>>> \n>>>   File \"c:\\ProgramData\\Anaconda3\\lib\\site-packages\\ipykernel_launcher.py\", line 16, in <module>\n>>>     app.launch_new_instance()\n>>> \n>>>   File \"c:\\ProgramData\\Anaconda3\\lib\\site-packages\\traitlets\\config\\application.py\", line 845, in launch_instance\n>>>     app.start()\n>>> \n>>>   File \"c:\\ProgramData\\Anaconda3\\lib\\site-packages\\ipykernel\\kernelapp.py\", line 612, in start\n>>>     self.io_loop.start()\n>>> \n>>>   File \"c:\\ProgramData\\Anaconda3\\lib\\site-packages\\tornado\\platform\\asyncio.py\", line 199, in start\n>>>     self.asyncio_loop.run_forever()\n>>> \n>>>   File \"c:\\ProgramData\\Anaconda3\\lib\\asyncio\\base_events.py\", line 570, in run_forever\n>>>     self._run_once()\n>>> \n>>>   File \"c:\\ProgramData\\Anaconda3\\lib\\asyncio\\base_events.py\", line 1859, in _run_once\n>>>     handle._run()\n>>> \n>>>   File \"c:\\ProgramData\\Anaconda3\\lib\\asyncio\\events.py\", line 81, in _run\n>>>     self._context.run(self._callback, *self._args)\n>>> \n>>>   File \"c:\\ProgramData\\Anaconda3\\lib\\site-packages\\tornado\\ioloop.py\", line 688, in <lambda>\n>>>     lambda f: self._run_callback(functools.partial(callback, future))\n>>> \n>>>   File \"c:\\ProgramData\\Anaconda3\\lib\\site-packages\\tornado\\ioloop.py\", line 741, in _run_callback\n>>>     ret = callback()\n>>> \n>>>   File \"c:\\ProgramData\\Anaconda3\\lib\\site-packages\\tornado\\gen.py\", line 814, in inner\n>>>     self.ctx_run(self.run)\n>>> \n>>>   File \"c:\\ProgramData\\Anaconda3\\lib\\site-packages\\tornado\\gen.py\", line 775, in run\n>>>     yielded = self.gen.send(value)\n>>> \n>>>   File \"c:\\ProgramData\\Anaconda3\\lib\\site-packages\\ipykernel\\kernelbase.py\", line 365, in process_one\n>>>     yield gen.maybe_future(dispatch(*args))\n>>> \n>>>   File \"c:\\ProgramData\\Anaconda3\\lib\\site-packages\\tornado\\gen.py\", line 234, in wrapper\n>>>     yielded = ctx_run(next, result)\n>>> \n>>>   File \"c:\\ProgramData\\Anaconda3\\lib\\site-packages\\ipykernel\\kernelbase.py\", line 268, in dispatch_shell\n>>>     yield gen.maybe_future(handler(stream, idents, msg))\n>>> \n>>>   File \"c:\\ProgramData\\Anaconda3\\lib\\site-packages\\tornado\\gen.py\", line 234, in wrapper\n>>>     yielded = ctx_run(next, result)\n>>> \n>>>   File \"c:\\ProgramData\\Anaconda3\\lib\\site-packages\\ipykernel\\kernelbase.py\", line 543, in execute_request\n>>>     self.do_execute(\n>>> \n>>>   File \"c:\\ProgramData\\Anaconda3\\lib\\site-packages\\tornado\\gen.py\", line 234, in wrapper\n>>>     yielded = ctx_run(next, result)\n>>> \n>>>   File \"c:\\ProgramData\\Anaconda3\\lib\\site-packages\\ipykernel\\ipkernel.py\", line 306, in do_execute\n>>>     res = shell.run_cell(code, store_history=store_history, silent=silent)\n>>> \n>>>   File \"c:\\ProgramData\\Anaconda3\\lib\\site-packages\\ipykernel\\zmqshell.py\", line 536, in run_cell\n>>>     return super(ZMQInteractiveShell, self).run_cell(*args, **kwargs)\n>>> \n>>>   File \"c:\\ProgramData\\Anaconda3\\lib\\site-packages\\IPython\\core\\interactiveshell.py\", line 2894, in run_cell\n>>>     result = self._run_cell(\n>>> \n>>>   File \"c:\\ProgramData\\Anaconda3\\lib\\site-packages\\IPython\\core\\interactiveshell.py\", line 2940, in _run_cell\n>>>     return runner(coro)\n>>> \n>>>   File \"c:\\ProgramData\\Anaconda3\\lib\\site-packages\\IPython\\core\\async_helpers.py\", line 68, in _pseudo_sync_runner\n>>>     coro.send(None)\n>>> \n>>>   File \"c:\\ProgramData\\Anaconda3\\lib\\site-packages\\IPython\\core\\interactiveshell.py\", line 3165, in run_cell_async\n>>>     has_raised = await self.run_ast_nodes(code_ast.body, cell_name,\n>>> \n>>>   File \"c:\\ProgramData\\Anaconda3\\lib\\site-packages\\IPython\\core\\interactiveshell.py\", line 3357, in run_ast_nodes\n>>>     if (await self.run_code(code, result,  async_=asy)):\n>>> \n>>>   File \"c:\\ProgramData\\Anaconda3\\lib\\site-packages\\IPython\\core\\interactiveshell.py\", line 3437, in run_code\n>>>     exec(code_obj, self.user_global_ns, self.user_ns)\n>>> \n>>>   File \"<ipython-input-212-9566bc453272>\", line 1, in <module>\n>>>     output, output_labels, frames, frame_labels,belongs_to_video,mc_preds = get_back_input2(video_names,\n>>> \n>>>   File \"<ipython-input-205-a6f936b81340>\", line 39, in get_back_input2\n>>>     y_p = mc_model.predict(the_images,\n>>> \n>>>   File \"c:\\ProgramData\\Anaconda3\\lib\\site-packages\\tensorflow\\python\\keras\\engine\\training.py\", line 1743, in predict\n>>>     tmp_batch_outputs = self.predict_function(iterator)\n>>> \n>>>   File \"c:\\ProgramData\\Anaconda3\\lib\\site-packages\\tensorflow\\python\\keras\\engine\\training.py\", line 1579, in predict_function\n>>>     return step_function(self, iterator)\n>>> \n>>>   File \"c:\\ProgramData\\Anaconda3\\lib\\site-packages\\tensorflow\\python\\keras\\engine\\training.py\", line 1569, in step_function\n>>>     outputs = model.distribute_strategy.run(run_step, args=(data,))\n>>> \n>>>   File \"c:\\ProgramData\\Anaconda3\\lib\\site-packages\\tensorflow\\python\\keras\\engine\\training.py\", line 1562, in run_step\n>>>     outputs = model.predict_step(data)\n>>> \n>>>   File \"c:\\ProgramData\\Anaconda3\\lib\\site-packages\\tensorflow\\python\\keras\\engine\\training.py\", line 1535, in predict_step\n>>>     return self(x, training=False)\n>>> \n>>>   File \"c:\\ProgramData\\Anaconda3\\lib\\site-packages\\tensorflow\\python\\keras\\engine\\base_layer.py\", line 1044, in __call__\n>>>     outputs = call_fn(inputs, *args, **kwargs)\n>>> \n>>>   File \"c:\\ProgramData\\Anaconda3\\lib\\site-packages\\tensorflow\\python\\keras\\engine\\functional.py\", line 419, in call\n>>>     return self._run_internal_graph(\n>>> \n>>>   File \"c:\\ProgramData\\Anaconda3\\lib\\site-packages\\tensorflow\\python\\keras\\engine\\functional.py\", line 555, in _run_internal_graph\n>>>     outputs = node.layer(*args, **kwargs)\n>>> \n>>>   File \"c:\\ProgramData\\Anaconda3\\lib\\site-packages\\tensorflow\\python\\keras\\engine\\base_layer.py\", line 1044, in __call__\n>>>     outputs = call_fn(inputs, *args, **kwargs)\n>>> \n>>>   File \"c:\\ProgramData\\Anaconda3\\lib\\site-packages\\tensorflow\\python\\keras\\layers\\convolutional.py\", line 280, in call\n>>>     return self.activation(outputs)\n>>> \n>>>   File \"c:\\ProgramData\\Anaconda3\\lib\\site-packages\\tensorflow\\python\\keras\\activations.py\", line 312, in relu\n>>>     return backend.relu(x, alpha=alpha, max_value=max_value, threshold=threshold)\n>>> \n>>>   File \"c:\\ProgramData\\Anaconda3\\lib\\site-packages\\tensorflow\\python\\keras\\backend.py\", line 4748, in relu\n>>>     x = nn.relu(x)\n>>> ",
     "output_type": "error",
     "traceback": [
      "\u001b[1;31m---------------------------------------------------------------------------\u001b[0m",
      "\u001b[1;31mUnknownError\u001b[0m                              Traceback (most recent call last)",
      "\u001b[1;32m<ipython-input-214-9566bc453272>\u001b[0m in \u001b[0;36m<module>\u001b[1;34m\u001b[0m\n\u001b[1;32m----> 1\u001b[1;33m output, output_labels, frames, frame_labels,belongs_to_video,mc_preds = get_back_input2(video_names,\n\u001b[0m\u001b[0;32m      2\u001b[0m                                                                                         \u001b[0mnon_mc_model\u001b[0m\u001b[1;33m,\u001b[0m \u001b[0mnum_classes\u001b[0m\u001b[1;33m,\u001b[0m\u001b[1;33m\u001b[0m\u001b[1;33m\u001b[0m\u001b[0m\n\u001b[0;32m      3\u001b[0m                                                                                         \u001b[0mn_iter\u001b[0m \u001b[1;33m=\u001b[0m \u001b[1;36m100\u001b[0m\u001b[1;33m,\u001b[0m \u001b[0mbatch_size\u001b[0m \u001b[1;33m=\u001b[0m \u001b[1;36m50\u001b[0m\u001b[1;33m,\u001b[0m\u001b[1;33m\u001b[0m\u001b[1;33m\u001b[0m\u001b[0m\n\u001b[0;32m      4\u001b[0m                                                                                         mc_preds = True)\n",
      "\u001b[1;32m<ipython-input-205-a6f936b81340>\u001b[0m in \u001b[0;36mget_back_input2\u001b[1;34m(video_names, mc_model, num_classes, n_iter, batch_size, mc_preds)\u001b[0m\n\u001b[0;32m     37\u001b[0m             \u001b[0mvideo_frames_predictions\u001b[0m \u001b[1;33m=\u001b[0m \u001b[1;33m[\u001b[0m\u001b[1;33m]\u001b[0m\u001b[1;33m\u001b[0m\u001b[1;33m\u001b[0m\u001b[0m\n\u001b[0;32m     38\u001b[0m             \u001b[1;32mfor\u001b[0m \u001b[0mj\u001b[0m \u001b[1;32min\u001b[0m \u001b[0mrange\u001b[0m\u001b[1;33m(\u001b[0m\u001b[0mn_iter\u001b[0m\u001b[1;33m)\u001b[0m\u001b[1;33m:\u001b[0m\u001b[1;33m\u001b[0m\u001b[1;33m\u001b[0m\u001b[0m\n\u001b[1;32m---> 39\u001b[1;33m                 y_p = mc_model.predict(the_images,\n\u001b[0m\u001b[0;32m     40\u001b[0m                                     batch_size=batch_size)\n\u001b[0;32m     41\u001b[0m                 \u001b[0mvideo_frames_predictions\u001b[0m\u001b[1;33m.\u001b[0m\u001b[0mappend\u001b[0m\u001b[1;33m(\u001b[0m\u001b[0my_p\u001b[0m\u001b[1;33m)\u001b[0m\u001b[1;33m\u001b[0m\u001b[1;33m\u001b[0m\u001b[0m\n",
      "\u001b[1;32mc:\\ProgramData\\Anaconda3\\lib\\site-packages\\tensorflow\\python\\keras\\engine\\training.py\u001b[0m in \u001b[0;36mpredict\u001b[1;34m(self, x, batch_size, verbose, steps, callbacks, max_queue_size, workers, use_multiprocessing)\u001b[0m\n\u001b[0;32m   1741\u001b[0m           \u001b[1;32mfor\u001b[0m \u001b[0mstep\u001b[0m \u001b[1;32min\u001b[0m \u001b[0mdata_handler\u001b[0m\u001b[1;33m.\u001b[0m\u001b[0msteps\u001b[0m\u001b[1;33m(\u001b[0m\u001b[1;33m)\u001b[0m\u001b[1;33m:\u001b[0m\u001b[1;33m\u001b[0m\u001b[1;33m\u001b[0m\u001b[0m\n\u001b[0;32m   1742\u001b[0m             \u001b[0mcallbacks\u001b[0m\u001b[1;33m.\u001b[0m\u001b[0mon_predict_batch_begin\u001b[0m\u001b[1;33m(\u001b[0m\u001b[0mstep\u001b[0m\u001b[1;33m)\u001b[0m\u001b[1;33m\u001b[0m\u001b[1;33m\u001b[0m\u001b[0m\n\u001b[1;32m-> 1743\u001b[1;33m             \u001b[0mtmp_batch_outputs\u001b[0m \u001b[1;33m=\u001b[0m \u001b[0mself\u001b[0m\u001b[1;33m.\u001b[0m\u001b[0mpredict_function\u001b[0m\u001b[1;33m(\u001b[0m\u001b[0miterator\u001b[0m\u001b[1;33m)\u001b[0m\u001b[1;33m\u001b[0m\u001b[1;33m\u001b[0m\u001b[0m\n\u001b[0m\u001b[0;32m   1744\u001b[0m             \u001b[1;32mif\u001b[0m \u001b[0mdata_handler\u001b[0m\u001b[1;33m.\u001b[0m\u001b[0mshould_sync\u001b[0m\u001b[1;33m:\u001b[0m\u001b[1;33m\u001b[0m\u001b[1;33m\u001b[0m\u001b[0m\n\u001b[0;32m   1745\u001b[0m               \u001b[0mcontext\u001b[0m\u001b[1;33m.\u001b[0m\u001b[0masync_wait\u001b[0m\u001b[1;33m(\u001b[0m\u001b[1;33m)\u001b[0m\u001b[1;33m\u001b[0m\u001b[1;33m\u001b[0m\u001b[0m\n",
      "\u001b[1;32mc:\\ProgramData\\Anaconda3\\lib\\site-packages\\tensorflow\\python\\util\\traceback_utils.py\u001b[0m in \u001b[0;36merror_handler\u001b[1;34m(*args, **kwargs)\u001b[0m\n\u001b[0;32m    151\u001b[0m     \u001b[1;32mexcept\u001b[0m \u001b[0mException\u001b[0m \u001b[1;32mas\u001b[0m \u001b[0me\u001b[0m\u001b[1;33m:\u001b[0m\u001b[1;33m\u001b[0m\u001b[1;33m\u001b[0m\u001b[0m\n\u001b[0;32m    152\u001b[0m       \u001b[0mfiltered_tb\u001b[0m \u001b[1;33m=\u001b[0m \u001b[0m_process_traceback_frames\u001b[0m\u001b[1;33m(\u001b[0m\u001b[0me\u001b[0m\u001b[1;33m.\u001b[0m\u001b[0m__traceback__\u001b[0m\u001b[1;33m)\u001b[0m\u001b[1;33m\u001b[0m\u001b[1;33m\u001b[0m\u001b[0m\n\u001b[1;32m--> 153\u001b[1;33m       \u001b[1;32mraise\u001b[0m \u001b[0me\u001b[0m\u001b[1;33m.\u001b[0m\u001b[0mwith_traceback\u001b[0m\u001b[1;33m(\u001b[0m\u001b[0mfiltered_tb\u001b[0m\u001b[1;33m)\u001b[0m \u001b[1;32mfrom\u001b[0m \u001b[1;32mNone\u001b[0m\u001b[1;33m\u001b[0m\u001b[1;33m\u001b[0m\u001b[0m\n\u001b[0m\u001b[0;32m    154\u001b[0m     \u001b[1;32mfinally\u001b[0m\u001b[1;33m:\u001b[0m\u001b[1;33m\u001b[0m\u001b[1;33m\u001b[0m\u001b[0m\n\u001b[0;32m    155\u001b[0m       \u001b[1;32mdel\u001b[0m \u001b[0mfiltered_tb\u001b[0m\u001b[1;33m\u001b[0m\u001b[1;33m\u001b[0m\u001b[0m\n",
      "\u001b[1;32mc:\\ProgramData\\Anaconda3\\lib\\site-packages\\tensorflow\\python\\eager\\execute.py\u001b[0m in \u001b[0;36mquick_execute\u001b[1;34m(op_name, num_outputs, inputs, attrs, ctx, name)\u001b[0m\n\u001b[0;32m     56\u001b[0m   \u001b[1;32mtry\u001b[0m\u001b[1;33m:\u001b[0m\u001b[1;33m\u001b[0m\u001b[1;33m\u001b[0m\u001b[0m\n\u001b[0;32m     57\u001b[0m     \u001b[0mctx\u001b[0m\u001b[1;33m.\u001b[0m\u001b[0mensure_initialized\u001b[0m\u001b[1;33m(\u001b[0m\u001b[1;33m)\u001b[0m\u001b[1;33m\u001b[0m\u001b[1;33m\u001b[0m\u001b[0m\n\u001b[1;32m---> 58\u001b[1;33m     tensors = pywrap_tfe.TFE_Py_Execute(ctx._handle, device_name, op_name,\n\u001b[0m\u001b[0;32m     59\u001b[0m                                         inputs, attrs, num_outputs)\n\u001b[0;32m     60\u001b[0m   \u001b[1;32mexcept\u001b[0m \u001b[0mcore\u001b[0m\u001b[1;33m.\u001b[0m\u001b[0m_NotOkStatusException\u001b[0m \u001b[1;32mas\u001b[0m \u001b[0me\u001b[0m\u001b[1;33m:\u001b[0m\u001b[1;33m\u001b[0m\u001b[1;33m\u001b[0m\u001b[0m\n",
      "\u001b[1;31mUnknownError\u001b[0m:  Failed to get convolution algorithm. This is probably because cuDNN failed to initialize, so try looking to see if a warning log message was printed above.\n\t [[node model_11/conv2d_22/Relu\n (defined at c:\\ProgramData\\Anaconda3\\lib\\site-packages\\tensorflow\\python\\keras\\backend.py:4748)\n]] [Op:__inference_predict_function_9878]\n\nErrors may have originated from an input operation.\nInput Source operations connected to node model_11/conv2d_22/Relu:\nIn[0] model_11/conv2d_22/BiasAdd (defined at c:\\ProgramData\\Anaconda3\\lib\\site-packages\\tensorflow\\python\\keras\\layers\\convolutional.py:271)\n\nOperation defined at: (most recent call last)\n>>>   File \"c:\\ProgramData\\Anaconda3\\lib\\runpy.py\", line 194, in _run_module_as_main\n>>>     return _run_code(code, main_globals, None,\n>>> \n>>>   File \"c:\\ProgramData\\Anaconda3\\lib\\runpy.py\", line 87, in _run_code\n>>>     exec(code, run_globals)\n>>> \n>>>   File \"c:\\ProgramData\\Anaconda3\\lib\\site-packages\\ipykernel_launcher.py\", line 16, in <module>\n>>>     app.launch_new_instance()\n>>> \n>>>   File \"c:\\ProgramData\\Anaconda3\\lib\\site-packages\\traitlets\\config\\application.py\", line 845, in launch_instance\n>>>     app.start()\n>>> \n>>>   File \"c:\\ProgramData\\Anaconda3\\lib\\site-packages\\ipykernel\\kernelapp.py\", line 612, in start\n>>>     self.io_loop.start()\n>>> \n>>>   File \"c:\\ProgramData\\Anaconda3\\lib\\site-packages\\tornado\\platform\\asyncio.py\", line 199, in start\n>>>     self.asyncio_loop.run_forever()\n>>> \n>>>   File \"c:\\ProgramData\\Anaconda3\\lib\\asyncio\\base_events.py\", line 570, in run_forever\n>>>     self._run_once()\n>>> \n>>>   File \"c:\\ProgramData\\Anaconda3\\lib\\asyncio\\base_events.py\", line 1859, in _run_once\n>>>     handle._run()\n>>> \n>>>   File \"c:\\ProgramData\\Anaconda3\\lib\\asyncio\\events.py\", line 81, in _run\n>>>     self._context.run(self._callback, *self._args)\n>>> \n>>>   File \"c:\\ProgramData\\Anaconda3\\lib\\site-packages\\tornado\\ioloop.py\", line 688, in <lambda>\n>>>     lambda f: self._run_callback(functools.partial(callback, future))\n>>> \n>>>   File \"c:\\ProgramData\\Anaconda3\\lib\\site-packages\\tornado\\ioloop.py\", line 741, in _run_callback\n>>>     ret = callback()\n>>> \n>>>   File \"c:\\ProgramData\\Anaconda3\\lib\\site-packages\\tornado\\gen.py\", line 814, in inner\n>>>     self.ctx_run(self.run)\n>>> \n>>>   File \"c:\\ProgramData\\Anaconda3\\lib\\site-packages\\tornado\\gen.py\", line 775, in run\n>>>     yielded = self.gen.send(value)\n>>> \n>>>   File \"c:\\ProgramData\\Anaconda3\\lib\\site-packages\\ipykernel\\kernelbase.py\", line 365, in process_one\n>>>     yield gen.maybe_future(dispatch(*args))\n>>> \n>>>   File \"c:\\ProgramData\\Anaconda3\\lib\\site-packages\\tornado\\gen.py\", line 234, in wrapper\n>>>     yielded = ctx_run(next, result)\n>>> \n>>>   File \"c:\\ProgramData\\Anaconda3\\lib\\site-packages\\ipykernel\\kernelbase.py\", line 268, in dispatch_shell\n>>>     yield gen.maybe_future(handler(stream, idents, msg))\n>>> \n>>>   File \"c:\\ProgramData\\Anaconda3\\lib\\site-packages\\tornado\\gen.py\", line 234, in wrapper\n>>>     yielded = ctx_run(next, result)\n>>> \n>>>   File \"c:\\ProgramData\\Anaconda3\\lib\\site-packages\\ipykernel\\kernelbase.py\", line 543, in execute_request\n>>>     self.do_execute(\n>>> \n>>>   File \"c:\\ProgramData\\Anaconda3\\lib\\site-packages\\tornado\\gen.py\", line 234, in wrapper\n>>>     yielded = ctx_run(next, result)\n>>> \n>>>   File \"c:\\ProgramData\\Anaconda3\\lib\\site-packages\\ipykernel\\ipkernel.py\", line 306, in do_execute\n>>>     res = shell.run_cell(code, store_history=store_history, silent=silent)\n>>> \n>>>   File \"c:\\ProgramData\\Anaconda3\\lib\\site-packages\\ipykernel\\zmqshell.py\", line 536, in run_cell\n>>>     return super(ZMQInteractiveShell, self).run_cell(*args, **kwargs)\n>>> \n>>>   File \"c:\\ProgramData\\Anaconda3\\lib\\site-packages\\IPython\\core\\interactiveshell.py\", line 2894, in run_cell\n>>>     result = self._run_cell(\n>>> \n>>>   File \"c:\\ProgramData\\Anaconda3\\lib\\site-packages\\IPython\\core\\interactiveshell.py\", line 2940, in _run_cell\n>>>     return runner(coro)\n>>> \n>>>   File \"c:\\ProgramData\\Anaconda3\\lib\\site-packages\\IPython\\core\\async_helpers.py\", line 68, in _pseudo_sync_runner\n>>>     coro.send(None)\n>>> \n>>>   File \"c:\\ProgramData\\Anaconda3\\lib\\site-packages\\IPython\\core\\interactiveshell.py\", line 3165, in run_cell_async\n>>>     has_raised = await self.run_ast_nodes(code_ast.body, cell_name,\n>>> \n>>>   File \"c:\\ProgramData\\Anaconda3\\lib\\site-packages\\IPython\\core\\interactiveshell.py\", line 3357, in run_ast_nodes\n>>>     if (await self.run_code(code, result,  async_=asy)):\n>>> \n>>>   File \"c:\\ProgramData\\Anaconda3\\lib\\site-packages\\IPython\\core\\interactiveshell.py\", line 3437, in run_code\n>>>     exec(code_obj, self.user_global_ns, self.user_ns)\n>>> \n>>>   File \"<ipython-input-212-9566bc453272>\", line 1, in <module>\n>>>     output, output_labels, frames, frame_labels,belongs_to_video,mc_preds = get_back_input2(video_names,\n>>> \n>>>   File \"<ipython-input-205-a6f936b81340>\", line 39, in get_back_input2\n>>>     y_p = mc_model.predict(the_images,\n>>> \n>>>   File \"c:\\ProgramData\\Anaconda3\\lib\\site-packages\\tensorflow\\python\\keras\\engine\\training.py\", line 1743, in predict\n>>>     tmp_batch_outputs = self.predict_function(iterator)\n>>> \n>>>   File \"c:\\ProgramData\\Anaconda3\\lib\\site-packages\\tensorflow\\python\\keras\\engine\\training.py\", line 1579, in predict_function\n>>>     return step_function(self, iterator)\n>>> \n>>>   File \"c:\\ProgramData\\Anaconda3\\lib\\site-packages\\tensorflow\\python\\keras\\engine\\training.py\", line 1569, in step_function\n>>>     outputs = model.distribute_strategy.run(run_step, args=(data,))\n>>> \n>>>   File \"c:\\ProgramData\\Anaconda3\\lib\\site-packages\\tensorflow\\python\\keras\\engine\\training.py\", line 1562, in run_step\n>>>     outputs = model.predict_step(data)\n>>> \n>>>   File \"c:\\ProgramData\\Anaconda3\\lib\\site-packages\\tensorflow\\python\\keras\\engine\\training.py\", line 1535, in predict_step\n>>>     return self(x, training=False)\n>>> \n>>>   File \"c:\\ProgramData\\Anaconda3\\lib\\site-packages\\tensorflow\\python\\keras\\engine\\base_layer.py\", line 1044, in __call__\n>>>     outputs = call_fn(inputs, *args, **kwargs)\n>>> \n>>>   File \"c:\\ProgramData\\Anaconda3\\lib\\site-packages\\tensorflow\\python\\keras\\engine\\functional.py\", line 419, in call\n>>>     return self._run_internal_graph(\n>>> \n>>>   File \"c:\\ProgramData\\Anaconda3\\lib\\site-packages\\tensorflow\\python\\keras\\engine\\functional.py\", line 555, in _run_internal_graph\n>>>     outputs = node.layer(*args, **kwargs)\n>>> \n>>>   File \"c:\\ProgramData\\Anaconda3\\lib\\site-packages\\tensorflow\\python\\keras\\engine\\base_layer.py\", line 1044, in __call__\n>>>     outputs = call_fn(inputs, *args, **kwargs)\n>>> \n>>>   File \"c:\\ProgramData\\Anaconda3\\lib\\site-packages\\tensorflow\\python\\keras\\layers\\convolutional.py\", line 280, in call\n>>>     return self.activation(outputs)\n>>> \n>>>   File \"c:\\ProgramData\\Anaconda3\\lib\\site-packages\\tensorflow\\python\\keras\\activations.py\", line 312, in relu\n>>>     return backend.relu(x, alpha=alpha, max_value=max_value, threshold=threshold)\n>>> \n>>>   File \"c:\\ProgramData\\Anaconda3\\lib\\site-packages\\tensorflow\\python\\keras\\backend.py\", line 4748, in relu\n>>>     x = nn.relu(x)\n>>> "
     ]
    }
   ],
   "source": [
    "output, output_labels, frames, frame_labels,belongs_to_video,mc_preds = get_back_input2(video_names,\n",
    "                                                                                        non_mc_model, num_classes,\n",
    "                                                                                        n_iter = 100, batch_size = 50,\n",
    "                                                                                        mc_preds = True)"
   ]
  },
  {
   "cell_type": "code",
   "execution_count": 208,
   "metadata": {},
   "outputs": [
    {
     "ename": "NameError",
     "evalue": "name 'frames' is not defined",
     "output_type": "error",
     "traceback": [
      "\u001b[1;31m---------------------------------------------------------------------------\u001b[0m",
      "\u001b[1;31mNameError\u001b[0m                                 Traceback (most recent call last)",
      "\u001b[1;32m<ipython-input-208-0a658e0f42f8>\u001b[0m in \u001b[0;36m<module>\u001b[1;34m\u001b[0m\n\u001b[1;32m----> 1\u001b[1;33m \u001b[0mbaseline_preds\u001b[0m \u001b[1;33m=\u001b[0m \u001b[0mnon_mc_model\u001b[0m\u001b[1;33m.\u001b[0m\u001b[0mpredict\u001b[0m\u001b[1;33m(\u001b[0m\u001b[0mframes\u001b[0m\u001b[1;33m,\u001b[0m\u001b[0mbatch_size\u001b[0m \u001b[1;33m=\u001b[0m \u001b[1;36m50\u001b[0m\u001b[1;33m)\u001b[0m\u001b[1;33m\u001b[0m\u001b[1;33m\u001b[0m\u001b[0m\n\u001b[0m",
      "\u001b[1;31mNameError\u001b[0m: name 'frames' is not defined"
     ]
    }
   ],
   "source": [
    "baseline_preds = non_mc_model.predict(frames,batch_size = 50)"
   ]
  },
  {
   "cell_type": "code",
   "execution_count": null,
   "metadata": {},
   "outputs": [],
   "source": []
  }
 ],
 "metadata": {
  "kernelspec": {
   "display_name": "Python 3.8.8 ('base')",
   "language": "python",
   "name": "python3"
  },
  "language_info": {
   "codemirror_mode": {
    "name": "ipython",
    "version": 3
   },
   "file_extension": ".py",
   "mimetype": "text/x-python",
   "name": "python",
   "nbconvert_exporter": "python",
   "pygments_lexer": "ipython3",
   "version": "3.8.8"
  },
  "orig_nbformat": 4,
  "vscode": {
   "interpreter": {
    "hash": "ad2bdc8ecc057115af97d19610ffacc2b4e99fae6737bb82f5d7fb13d2f2c186"
   }
  }
 },
 "nbformat": 4,
 "nbformat_minor": 2
}
